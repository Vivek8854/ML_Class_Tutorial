{
 "cells": [
  {
   "cell_type": "code",
   "execution_count": 32,
   "id": "eda39c9e",
   "metadata": {},
   "outputs": [],
   "source": [
    "import pandas as pd\n",
    "import numpy as np\n",
    "import time\n",
    "import matplotlib.pyplot as plt\n",
    "from sklearn.model_selection import train_test_split\n",
    "from sklearn.preprocessing import StandardScaler,OneHotEncoder\n",
    "from sklearn.compose import ColumnTransformer\n",
    "from sklearn.linear_model import LogisticRegression\n",
    "from sklearn.svm import SVC\n",
    "from sklearn.tree import DecisionTreeClassifier\n",
    "from sklearn.ensemble import AdaBoostClassifier\n",
    "\n",
    "from xgboost import XGBClassifier\n",
    "from catboost import CatBoostClassifier\n",
    "\n",
    "from sklearn.metrics import classification_report, accuracy_score,confusion_matrix\n",
    "import warnings\n",
    "warnings.filterwarnings(\"ignore\")\n",
    "\n"
   ]
  },
  {
   "cell_type": "code",
   "execution_count": 33,
   "id": "de733780",
   "metadata": {},
   "outputs": [
    {
     "name": "stdout",
     "output_type": "stream",
     "text": [
      "['heart.dat', 'heart.doc', 'Index']\n"
     ]
    }
   ],
   "source": [
    "import zipfile\n",
    "zip_path = r'C:\\Users\\vivek\\OneDrive\\Desktop\\Machine Learning(IA)\\ML_Assignments\\Datasets\\statlog+heart.zip'\n",
    "\n",
    "# Open the ZIP file\n",
    "with zipfile.ZipFile(zip_path, 'r') as zip_ref:\n",
    "    # List all files in the zip\n",
    "    print(zip_ref.namelist())\n",
    "\n"
   ]
  },
  {
   "cell_type": "code",
   "execution_count": 34,
   "id": "ba7f4cbf",
   "metadata": {},
   "outputs": [
    {
     "name": "stdout",
     "output_type": "stream",
     "text": [
      "   70.0  1.0  4.0  130.0  322.0  0.0  2.0  109.0  0.0.1  2.4  2.0.1  3.0  \\\n",
      "0  67.0  0.0  3.0  115.0  564.0  0.0  2.0  160.0    0.0  1.6    2.0  0.0   \n",
      "1  57.0  1.0  2.0  124.0  261.0  0.0  0.0  141.0    0.0  0.3    1.0  0.0   \n",
      "2  64.0  1.0  4.0  128.0  263.0  0.0  0.0  105.0    1.0  0.2    2.0  1.0   \n",
      "3  74.0  0.0  2.0  120.0  269.0  0.0  2.0  121.0    1.0  0.2    1.0  1.0   \n",
      "4  65.0  1.0  4.0  120.0  177.0  0.0  0.0  140.0    0.0  0.4    1.0  0.0   \n",
      "\n",
      "   3.0.1  2  \n",
      "0    7.0  1  \n",
      "1    7.0  2  \n",
      "2    7.0  1  \n",
      "3    3.0  1  \n",
      "4    7.0  1  \n"
     ]
    }
   ],
   "source": [
    "import zipfile\n",
    "import os\n",
    "\n",
    "# Define the path to the ZIP file\n",
    "zip_path = r'C:\\Users\\vivek\\OneDrive\\Desktop\\Machine Learning(IA)\\ML_Assignments\\Datasets\\statlog+heart.zip'\n",
    "\n",
    "# Extract the ZIP file\n",
    "with zipfile.ZipFile(zip_path, 'r') as zip_ref:\n",
    "    zip_ref.extractall(r'C:\\Users\\vivek\\OneDrive\\Desktop\\Machine Learning(IA)\\ML_Assignments\\Datasets\\statlog+heart')\n",
    "\n",
    "# Define the path to the extracted dataset\n",
    "file_path = r'C:\\Users\\vivek\\OneDrive\\Desktop\\Machine Learning(IA)\\ML_Assignments\\Datasets\\statlog+heart\\heart.dat'\n",
    "\n",
    "# Load the dataset\n",
    "data = pd.read_csv(file_path, delimiter=' ')  # Change the delimiter if needed\n",
    "print(data.head())\n"
   ]
  },
  {
   "cell_type": "code",
   "execution_count": 35,
   "id": "3f22185b",
   "metadata": {},
   "outputs": [
    {
     "name": "stdout",
     "output_type": "stream",
     "text": [
      "    age  sex  chest_pain_type  resting_blood_pressure  serum_cholesterol  \\\n",
      "0  67.0  0.0              3.0                   115.0              564.0   \n",
      "1  57.0  1.0              2.0                   124.0              261.0   \n",
      "2  64.0  1.0              4.0                   128.0              263.0   \n",
      "3  74.0  0.0              2.0                   120.0              269.0   \n",
      "4  65.0  1.0              4.0                   120.0              177.0   \n",
      "\n",
      "   fasting_blood_sugar  resting_ecg  max_heart_rate  exercise_induced_angina  \\\n",
      "0                  0.0          2.0           160.0                      0.0   \n",
      "1                  0.0          0.0           141.0                      0.0   \n",
      "2                  0.0          0.0           105.0                      1.0   \n",
      "3                  0.0          2.0           121.0                      1.0   \n",
      "4                  0.0          0.0           140.0                      0.0   \n",
      "\n",
      "   oldpeak  slope  num_major_vessels  thal  target  \n",
      "0      1.6    2.0                0.0   7.0       1  \n",
      "1      0.3    1.0                0.0   7.0       2  \n",
      "2      0.2    2.0                1.0   7.0       1  \n",
      "3      0.2    1.0                1.0   3.0       1  \n",
      "4      0.4    1.0                0.0   7.0       1  \n"
     ]
    }
   ],
   "source": [
    "# Assign column names based on the description you provided\n",
    "columns = [\n",
    "    'age', 'sex', 'chest_pain_type', 'resting_blood_pressure', 'serum_cholesterol',\n",
    "    'fasting_blood_sugar', 'resting_ecg', 'max_heart_rate', 'exercise_induced_angina',\n",
    "    'oldpeak', 'slope', 'num_major_vessels', 'thal', 'target'\n",
    "]\n",
    "data.columns = columns\n",
    "\n",
    "# Show the first few rows of the dataset\n",
    "print(data.head())"
   ]
  },
  {
   "cell_type": "code",
   "execution_count": 36,
   "id": "479fb812",
   "metadata": {},
   "outputs": [
    {
     "name": "stdout",
     "output_type": "stream",
     "text": [
      "<class 'pandas.core.frame.DataFrame'>\n",
      "RangeIndex: 269 entries, 0 to 268\n",
      "Data columns (total 14 columns):\n",
      " #   Column                   Non-Null Count  Dtype  \n",
      "---  ------                   --------------  -----  \n",
      " 0   age                      269 non-null    float64\n",
      " 1   sex                      269 non-null    float64\n",
      " 2   chest_pain_type          269 non-null    float64\n",
      " 3   resting_blood_pressure   269 non-null    float64\n",
      " 4   serum_cholesterol        269 non-null    float64\n",
      " 5   fasting_blood_sugar      269 non-null    float64\n",
      " 6   resting_ecg              269 non-null    float64\n",
      " 7   max_heart_rate           269 non-null    float64\n",
      " 8   exercise_induced_angina  269 non-null    float64\n",
      " 9   oldpeak                  269 non-null    float64\n",
      " 10  slope                    269 non-null    float64\n",
      " 11  num_major_vessels        269 non-null    float64\n",
      " 12  thal                     269 non-null    float64\n",
      " 13  target                   269 non-null    int64  \n",
      "dtypes: float64(13), int64(1)\n",
      "memory usage: 29.6 KB\n"
     ]
    }
   ],
   "source": [
    "data.info()"
   ]
  },
  {
   "cell_type": "code",
   "execution_count": 37,
   "id": "98bab4e2",
   "metadata": {},
   "outputs": [
    {
     "data": {
      "text/plain": [
       "age                        0\n",
       "sex                        0\n",
       "chest_pain_type            0\n",
       "resting_blood_pressure     0\n",
       "serum_cholesterol          0\n",
       "fasting_blood_sugar        0\n",
       "resting_ecg                0\n",
       "max_heart_rate             0\n",
       "exercise_induced_angina    0\n",
       "oldpeak                    0\n",
       "slope                      0\n",
       "num_major_vessels          0\n",
       "thal                       0\n",
       "target                     0\n",
       "dtype: int64"
      ]
     },
     "execution_count": 37,
     "metadata": {},
     "output_type": "execute_result"
    }
   ],
   "source": [
    "data.isnull().sum()"
   ]
  },
  {
   "cell_type": "code",
   "execution_count": 38,
   "id": "b8c66f7b",
   "metadata": {},
   "outputs": [],
   "source": [
    "continuous_features = ['age', 'resting_blood_pressure', 'serum_cholesterol', \n",
    "                       'max_heart_rate', 'oldpeak', 'num_major_vessels']\n",
    "categorical_features = ['sex', 'chest_pain_type', 'resting_ecg', 'exercise_induced_angina', 'thal']\n",
    "\n",
    "preprocessor = ColumnTransformer(\n",
    "    transformers=[\n",
    "        ('num', StandardScaler(), continuous_features),  # Scaling continuous features\n",
    "        ('cat', OneHotEncoder(), categorical_features)   # One-hot encoding categorical features\n",
    "    ])"
   ]
  },
  {
   "cell_type": "code",
   "execution_count": 39,
   "id": "eb8deb65",
   "metadata": {},
   "outputs": [],
   "source": [
    "X = data.drop('target', axis=1)  # Features\n",
    "y = data['target'].replace({1: 0, 2: 1})"
   ]
  },
  {
   "cell_type": "code",
   "execution_count": 40,
   "id": "304b80b1",
   "metadata": {},
   "outputs": [],
   "source": [
    "X_train, X_test, y_train, y_test = train_test_split(X, y, test_size=0.2, random_state=42)"
   ]
  },
  {
   "cell_type": "code",
   "execution_count": 41,
   "id": "bf2da830",
   "metadata": {},
   "outputs": [],
   "source": [
    "X_train = preprocessor.fit_transform(X_train)\n",
    "X_test = preprocessor.transform(X_test)"
   ]
  },
  {
   "cell_type": "code",
   "execution_count": 42,
   "id": "f4a06d18",
   "metadata": {},
   "outputs": [
    {
     "name": "stdout",
     "output_type": "stream",
     "text": [
      "Training and Evaluating Logistic Regression...\n",
      "Accuracy: 0.8333333333333334\n",
      "Confusion Matrix:\n",
      "[[23  3]\n",
      " [ 6 22]]\n",
      "Classification Report:\n",
      "              precision    recall  f1-score   support\n",
      "\n",
      "           0       0.79      0.88      0.84        26\n",
      "           1       0.88      0.79      0.83        28\n",
      "\n",
      "    accuracy                           0.83        54\n",
      "   macro avg       0.84      0.84      0.83        54\n",
      "weighted avg       0.84      0.83      0.83        54\n",
      "\n",
      "--------------------------------------------------\n",
      "Training and Evaluating SVM...\n",
      "Accuracy: 0.8518518518518519\n",
      "Confusion Matrix:\n",
      "[[25  1]\n",
      " [ 7 21]]\n",
      "Classification Report:\n",
      "              precision    recall  f1-score   support\n",
      "\n",
      "           0       0.78      0.96      0.86        26\n",
      "           1       0.95      0.75      0.84        28\n",
      "\n",
      "    accuracy                           0.85        54\n",
      "   macro avg       0.87      0.86      0.85        54\n",
      "weighted avg       0.87      0.85      0.85        54\n",
      "\n",
      "--------------------------------------------------\n",
      "Training and Evaluating Decision Tree...\n",
      "Accuracy: 0.6851851851851852\n",
      "Confusion Matrix:\n",
      "[[18  8]\n",
      " [ 9 19]]\n",
      "Classification Report:\n",
      "              precision    recall  f1-score   support\n",
      "\n",
      "           0       0.67      0.69      0.68        26\n",
      "           1       0.70      0.68      0.69        28\n",
      "\n",
      "    accuracy                           0.69        54\n",
      "   macro avg       0.69      0.69      0.69        54\n",
      "weighted avg       0.69      0.69      0.69        54\n",
      "\n",
      "--------------------------------------------------\n",
      "Training and Evaluating AdaBoost...\n"
     ]
    },
    {
     "name": "stdout",
     "output_type": "stream",
     "text": [
      "Accuracy: 0.7407407407407407\n",
      "Confusion Matrix:\n",
      "[[22  4]\n",
      " [10 18]]\n",
      "Classification Report:\n",
      "              precision    recall  f1-score   support\n",
      "\n",
      "           0       0.69      0.85      0.76        26\n",
      "           1       0.82      0.64      0.72        28\n",
      "\n",
      "    accuracy                           0.74        54\n",
      "   macro avg       0.75      0.74      0.74        54\n",
      "weighted avg       0.76      0.74      0.74        54\n",
      "\n",
      "--------------------------------------------------\n",
      "Training and Evaluating XGBoost...\n",
      "Accuracy: 0.7777777777777778\n",
      "Confusion Matrix:\n",
      "[[21  5]\n",
      " [ 7 21]]\n",
      "Classification Report:\n",
      "              precision    recall  f1-score   support\n",
      "\n",
      "           0       0.75      0.81      0.78        26\n",
      "           1       0.81      0.75      0.78        28\n",
      "\n",
      "    accuracy                           0.78        54\n",
      "   macro avg       0.78      0.78      0.78        54\n",
      "weighted avg       0.78      0.78      0.78        54\n",
      "\n",
      "--------------------------------------------------\n",
      "Training and Evaluating CatBoost...\n",
      "Accuracy: 0.7962962962962963\n",
      "Confusion Matrix:\n",
      "[[23  3]\n",
      " [ 8 20]]\n",
      "Classification Report:\n",
      "              precision    recall  f1-score   support\n",
      "\n",
      "           0       0.74      0.88      0.81        26\n",
      "           1       0.87      0.71      0.78        28\n",
      "\n",
      "    accuracy                           0.80        54\n",
      "   macro avg       0.81      0.80      0.80        54\n",
      "weighted avg       0.81      0.80      0.80        54\n",
      "\n",
      "--------------------------------------------------\n"
     ]
    }
   ],
   "source": [
    "# Models to apply\n",
    "models = {\n",
    "    \"Logistic Regression\": LogisticRegression(),\n",
    "    \"SVM\": SVC(),\n",
    "    \"Decision Tree\": DecisionTreeClassifier(),\n",
    "    \"AdaBoost\": AdaBoostClassifier(),\n",
    "    \"XGBoost\": XGBClassifier(use_label_encoder=False, eval_metric='logloss'),\n",
    "    \"CatBoost\": CatBoostClassifier(silent=True)\n",
    "}\n",
    "\n",
    "# Training and evaluation for each model\n",
    "for model_name, model in models.items():\n",
    "    print(f\"Training and Evaluating {model_name}...\")\n",
    "    \n",
    "    # Train the model\n",
    "    model.fit(X_train, y_train)\n",
    "    \n",
    "    # Make predictions on the test set\n",
    "    y_pred = model.predict(X_test)\n",
    "    \n",
    "    # Evaluate the model\n",
    "    accuracy = accuracy_score(y_test, y_pred)\n",
    "    conf_matrix = confusion_matrix(y_test, y_pred)\n",
    "    class_report = classification_report(y_test, y_pred)\n",
    "    \n",
    "    print(f\"Accuracy: {accuracy}\")\n",
    "    print(\"Confusion Matrix:\")\n",
    "    print(conf_matrix)\n",
    "    print(\"Classification Report:\")\n",
    "    print(class_report)\n",
    "    print(\"-\" * 50)\n"
   ]
  },
  {
   "cell_type": "code",
   "execution_count": 43,
   "id": "8c92e980",
   "metadata": {},
   "outputs": [
    {
     "name": "stdout",
     "output_type": "stream",
     "text": [
      "Training and Evaluating Logistic Regression...\n",
      "Training and Evaluating SVM...\n",
      "Training and Evaluating Decision Tree...\n",
      "Training and Evaluating AdaBoost...\n",
      "Training and Evaluating XGBoost...\n",
      "Training and Evaluating CatBoost...\n",
      "                 Model  Accuracy  Precision (Class 0)  Precision (Class 1)  \\\n",
      "0  Logistic Regression  0.833333             0.793103             0.880000   \n",
      "1                  SVM  0.851852             0.781250             0.954545   \n",
      "2        Decision Tree  0.703704             0.692308             0.714286   \n",
      "3             AdaBoost  0.740741             0.687500             0.818182   \n",
      "4              XGBoost  0.777778             0.750000             0.807692   \n",
      "5             CatBoost  0.796296             0.741935             0.869565   \n",
      "\n",
      "   Recall (Class 0)  Recall (Class 1)  F1-Score (Class 0)  F1-Score (Class 1)  \\\n",
      "0          0.884615          0.785714            0.836364            0.830189   \n",
      "1          0.961538          0.750000            0.862069            0.840000   \n",
      "2          0.692308          0.714286            0.692308            0.714286   \n",
      "3          0.846154          0.642857            0.758621            0.720000   \n",
      "4          0.807692          0.750000            0.777778            0.777778   \n",
      "5          0.884615          0.714286            0.807018            0.784314   \n",
      "\n",
      "      Confusion Matrix  Runtime (seconds)  \n",
      "0   [[23, 3], [6, 22]]           0.015906  \n",
      "1   [[25, 1], [7, 21]]           0.011581  \n",
      "2   [[18, 8], [8, 20]]           0.014525  \n",
      "3  [[22, 4], [10, 18]]           0.143972  \n",
      "4   [[21, 5], [7, 21]]           0.059144  \n",
      "5   [[23, 3], [8, 20]]           2.582671  \n"
     ]
    }
   ],
   "source": [
    "# Initialize lists to store results\n",
    "results = []\n",
    "\n",
    "# Training and evaluation for each model\n",
    "for model_name, model in models.items():\n",
    "    start_time = time.time()  # Start the timer\n",
    "    \n",
    "    print(f\"Training and Evaluating {model_name}...\")\n",
    "    \n",
    "    # Train the model\n",
    "    model.fit(X_train, y_train)\n",
    "    \n",
    "    # Make predictions on the test set\n",
    "    y_pred = model.predict(X_test)\n",
    "    \n",
    "    # Evaluate the model\n",
    "    accuracy = accuracy_score(y_test, y_pred)\n",
    "    conf_matrix = confusion_matrix(y_test, y_pred)\n",
    "    class_report = classification_report(y_test, y_pred, output_dict=True)\n",
    "    \n",
    "    # End the timer and calculate runtime\n",
    "    end_time = time.time()\n",
    "    runtime = end_time - start_time\n",
    "    \n",
    "    # Store results for comparison\n",
    "    results.append({\n",
    "        'Model': model_name,\n",
    "        'Accuracy': accuracy,\n",
    "        'Precision (Class 0)': class_report['0']['precision'],\n",
    "        'Precision (Class 1)': class_report['1']['precision'],\n",
    "        'Recall (Class 0)': class_report['0']['recall'],\n",
    "        'Recall (Class 1)': class_report['1']['recall'],\n",
    "        'F1-Score (Class 0)': class_report['0']['f1-score'],\n",
    "        'F1-Score (Class 1)': class_report['1']['f1-score'],\n",
    "        'Confusion Matrix': conf_matrix,\n",
    "        'Runtime (seconds)': runtime\n",
    "    })\n",
    "\n",
    "# Create a DataFrame for comparison\n",
    "comparison_df = pd.DataFrame(results)\n",
    "\n",
    "# Display the results\n",
    "print(comparison_df)\n"
   ]
  }
 ],
 "metadata": {
  "kernelspec": {
   "display_name": "Python 3",
   "language": "python",
   "name": "python3"
  },
  "language_info": {
   "codemirror_mode": {
    "name": "ipython",
    "version": 3
   },
   "file_extension": ".py",
   "mimetype": "text/x-python",
   "name": "python",
   "nbconvert_exporter": "python",
   "pygments_lexer": "ipython3",
   "version": "3.12.4"
  }
 },
 "nbformat": 4,
 "nbformat_minor": 5
}
